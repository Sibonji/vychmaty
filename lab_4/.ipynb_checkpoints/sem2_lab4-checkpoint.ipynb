{
 "cells": [
  {
   "cell_type": "markdown",
   "metadata": {},
   "source": [
    "# Решение краевой задачи методом прогонки, вариант №16\n",
    "Необходимо решить уравнение с кусочно-непрерывными коэффициентами.\n",
    "$$\n",
    "\\begin{cases} \n",
    "\\frac{d}{dx}[k(x)\\frac{du}{dx}] - q(x)u = -f(x), \\\\\n",
    "u(0) = u^0, \\\\\n",
    "u(1) = u^1, \\\\\n",
    "\\end{cases} \n",
    "$$\n",
    "\n",
    "В данной задаче коэффициенты имеют одну точку разрыва 1 рода \n",
    "в координате $x_0 = \\frac{1}{\\sqrt{3}}$. В данной точке ставятся условия сопряжения:\n",
    "\n",
    "$$\n",
    "\\begin{cases}\n",
    "u |_{x = x_0 - 0} = u |_{x = x_0 + 0}, \\\\\n",
    "ku_x |_{x = x_0 - 0} = ku_x |_{x = x_0 + 0}. \n",
    "\\end{cases}\n",
    "$$\n",
    "\n"
   ]
  },
  {
   "cell_type": "markdown",
   "metadata": {},
   "source": [
    "Подключаем нужные библиотеки"
   ]
  },
  {
   "cell_type": "code",
   "execution_count": 1,
   "metadata": {},
   "outputs": [],
   "source": [
    "import numpy as np\n",
    "import math\n",
    "import matplotlib.pyplot as plt"
   ]
  },
  {
   "cell_type": "markdown",
   "metadata": {},
   "source": [
    "Задаем функцию для k"
   ]
  },
  {
   "cell_type": "code",
   "execution_count": 2,
   "metadata": {},
   "outputs": [],
   "source": [
    "def k(x):\n",
    "    return math.exp(-x)"
   ]
  },
  {
   "cell_type": "markdown",
   "metadata": {},
   "source": [
    "Задаем функцию q(x)"
   ]
  },
  {
   "cell_type": "code",
   "execution_count": 3,
   "metadata": {},
   "outputs": [],
   "source": [
    "def q(x, x0):\n",
    "    if (x < x0):\n",
    "        return x**3\n",
    "    else:\n",
    "        return x"
   ]
  },
  {
   "cell_type": "markdown",
   "metadata": {},
   "source": [
    " Задаем функцию f(x)"
   ]
  },
  {
   "cell_type": "code",
   "execution_count": 4,
   "metadata": {},
   "outputs": [],
   "source": [
    "def f(x, x0):\n",
    "    if (x < x0):\n",
    "        return x**2 - 1\n",
    "    else:\n",
    "        return 1"
   ]
  },
  {
   "cell_type": "markdown",
   "metadata": {},
   "source": [
    "Задаем начальные условия"
   ]
  },
  {
   "cell_type": "code",
   "execution_count": 5,
   "metadata": {},
   "outputs": [],
   "source": [
    "x_start = 0\n",
    "x_end = 1\n",
    "\n",
    "u_0 = 2\n",
    "u_L = 1\n",
    "\n",
    "num = 100000 # change L to num\n",
    "h = (x_end - x_start) / (num - 1)\n",
    "\n",
    "x = np.linspace(x_start, x_end, num)\n",
    "\n",
    "u = np.zeros(num)\n",
    "\n",
    "u[0] = u_0\n",
    "u[-1] = u_L\n",
    "\n",
    "x0 = 1 / np.sqrt(3)"
   ]
  },
  {
   "cell_type": "markdown",
   "metadata": {},
   "source": [
    "Используем метод встречных прогонок\n",
    "\n",
    "Пусть точка разрыва между узлами l_a и  l_b. Введем обозначение:\n",
    "\n",
    "$(k_\\alpha)_{l \\pm 1/2} = k_\\alpha(x_l \\pm h/2)$\n",
    "\n",
    "$(k_\\beta)_{l \\pm 1/2} = k_\\beta(x_l \\pm h/2)$\n",
    "\n",
    "Прямая прогонка:\n",
    "\n",
    "\\begin{cases}\n",
    "u_{l_\\alpha} = u_{l_\\beta} = \\displaystyle\\frac{(k_\\alpha)_{l_\\alpha}\\beta_{l_\\alpha - 1} + (k_\\beta)_{l_\\beta}\\beta_{l_\\beta + 1}}{(k_\\alpha)_{l_\\alpha}(1 - \\alpha_{l_\\alpha - 1}) + (k_\\beta)_{l_\\beta} (1 - \\alpha_{l_\\beta + 1})} \\\\\n",
    "u_{l_\\alpha - 1} = \\alpha_{l_\\alpha - 1} u_{l_\\alpha} + \\beta_{l_\\alpha - 1} \\\\\n",
    "u_{l_\\beta + 1} = \\alpha_{l_\\beta + 1} u_{l_\\beta} + \\beta_{l_\\beta + 1}\n",
    "\\end{cases}\n",
    "\n",
    "При обратной прогонке по формулам \n",
    "$$\n",
    "\\begin{cases}\n",
    "u_{l - 1} = \\alpha_{l - 1} u_l + \\beta_{l - 1}, \\;\\;\\; l = \\overline{1 \\div l_\\alpha - 1} \\\\\n",
    "u_{l + 1} = \\alpha_{l + 1} u_l + \\beta_{l + 1}, \\;\\;\\; l = \\overline{L - 1 \\div l_\\beta + 1}\n",
    "\\end{cases}\n",
    "$$\n",
    "\n",
    "находим решение в узлах сетки, получая, таким образом, численое решение задачи."
   ]
  },
  {
   "cell_type": "markdown",
   "metadata": {},
   "source": [
    "Найдем индексы окружающие точку разрыва"
   ]
  },
  {
   "cell_type": "code",
   "execution_count": 6,
   "metadata": {},
   "outputs": [],
   "source": [
    "l_a = int(np.floor(x0 / h))\n",
    "l_b = l_a + 1"
   ]
  },
  {
   "cell_type": "markdown",
   "metadata": {},
   "source": [
    "Посчитаем коэффициенты нужные для уравнений"
   ]
  },
  {
   "cell_type": "code",
   "execution_count": 7,
   "metadata": {},
   "outputs": [],
   "source": [
    "a = np.zeros(num)\n",
    "b = np.zeros(num)\n",
    "c = np.zeros(num)\n",
    "d = np.zeros(num)\n",
    "\n",
    "alpha = np.zeros(num)\n",
    "beta  = np.zeros(num)"
   ]
  },
  {
   "cell_type": "markdown",
   "metadata": {},
   "source": [
    "Начнем прямую прогонку"
   ]
  },
  {
   "cell_type": "code",
   "execution_count": 8,
   "metadata": {},
   "outputs": [],
   "source": [
    "for l in range(1, l_a):\n",
    "    l_more = l + 0.5\n",
    "    l_less = l - 0.5\n",
    "    a[l] = k(l_more * h)\n",
    "    b[l] = -(k(l_more * h) + k(l_less * h) + q(l * h, x0) * h * h)\n",
    "    c[l] = k(l_less * h)\n",
    "    d[l] = -f(l * h, x0) * h * h\n",
    "\n",
    "for l in range(l_b + 1, num - 1):\n",
    "    l_more = l + 0.5\n",
    "    l_less = l - 0.5\n",
    "    a[l] = k(l_more * h)\n",
    "    b[l] = -(k(l_more * h) + k(l_less * h) + q(l * h, x0) * h * h)\n",
    "    c[l] = k(l_less * h)\n",
    "    d[l] = -f(l * h, x0) * h * h"
   ]
  },
  {
   "cell_type": "markdown",
   "metadata": {},
   "source": [
    "Посчитаем прогоночные коэффициенты в первой и последней точках"
   ]
  },
  {
   "cell_type": "code",
   "execution_count": 9,
   "metadata": {},
   "outputs": [],
   "source": [
    "alpha[1] = -a[1] / b[1]\n",
    "beta[1]  = (d[1] - c[1] * u_0) / b[1]\n",
    "\n",
    "alpha[num - 2] = -c[num - 2] / b[num - 2]\n",
    "beta[num - 2]  = (d[num - 2] - c[num - 2] * u_L) / b[num - 2]"
   ]
  },
  {
   "cell_type": "markdown",
   "metadata": {},
   "source": [
    "Посчитаем $\\alpha$ и $\\beta$ "
   ]
  },
  {
   "cell_type": "code",
   "execution_count": 10,
   "metadata": {},
   "outputs": [],
   "source": [
    "for l in range(2, l_a):\n",
    "    alpha[l] = -a[l] / (b[l] + c[l] * alpha[l - 1])\n",
    "    beta[l]  = (d[l] - c[l] * beta[l - 1]) / (b[l] + c[l] * alpha[l - 1])\n",
    "\n",
    "\n",
    "for l in range(num - 3, l_b, -1):\n",
    "    alpha[l] = -c[l] / (b[l] + a[l] * alpha[l + 1])\n",
    "    beta[l]  = (d[l] - a[l] * beta[l + 1]) / (b[l] + a[l] * alpha[l + 1])"
   ]
  },
  {
   "cell_type": "markdown",
   "metadata": {},
   "source": [
    "Посчитаем результат решения системы для индексов $l_{\\alpha-1}, l_{\\alpha}, l_{\\beta}, l_{\\beta+1}$"
   ]
  },
  {
   "cell_type": "code",
   "execution_count": 11,
   "metadata": {},
   "outputs": [],
   "source": [
    "u[l_a] = (k(l_a * h) * beta[l_a - 1] + k(l_b * h) * beta[l_b + 1]) / (k(l_a * h) * (1 - alpha[l_a - 1]) + k(l_b * h) * (1 - alpha[l_b + 1]))\n",
    "u[l_b] = u[l_a].copy()\n",
    "\n",
    "u[l_a - 1] = alpha[l_a - 1] * u[l_a] + beta[l_a - 1]\n",
    "u[l_b + 1] = alpha[l_b + 1] * u[l_b] + beta[l_b + 1]"
   ]
  },
  {
   "cell_type": "markdown",
   "metadata": {},
   "source": [
    "Начнем обратную прогонку"
   ]
  },
  {
   "cell_type": "code",
   "execution_count": 12,
   "metadata": {},
   "outputs": [],
   "source": [
    "for l in range(l_a - 1, 0, -1):\n",
    "    u[l] = alpha[l] * u[l + 1] + beta[l]\n",
    "\n",
    "for l in range(l_b + 1, num - 1):\n",
    "    u[l] = alpha[l] * u[l - 1] + beta[l]"
   ]
  },
  {
   "cell_type": "markdown",
   "metadata": {},
   "source": [
    "Выведем график"
   ]
  },
  {
   "cell_type": "code",
   "execution_count": 13,
   "metadata": {},
   "outputs": [
    {
     "data": {
      "text/plain": [
       "<function matplotlib.pyplot.show(close=None, block=None)>"
      ]
     },
     "execution_count": 13,
     "metadata": {},
     "output_type": "execute_result"
    },
    {
     "data": {
      "image/png": "[encoded data removed]",
      "text/plain": [
       "<Figure size 640x480 with 1 Axes>"
      ]
     },
     "metadata": {},
     "output_type": "display_data"
    }
   ],
   "source": [
    "plt.plot(x, u)\n",
    "plt.title(\"Численное решение\")\n",
    "plt.xlabel(\"x\")\n",
    "plt.ylabel(\"u(x)\")\n",
    "plt.grid()\n",
    "\n",
    "plt.vlines(x0, min(u), max(u))\n",
    "\n",
    "plt.show"
   ]
  }
 ],
 "metadata": {
  "interpreter": {
   "hash": "916dbcbb3f70747c44a77c7bcd40155683ae19c65e1c03b4aa3499c5328201f1"
  },
  "kernelspec": {
   "display_name": "Python 3 (ipykernel)",
   "language": "python",
   "name": "python3"
  },
  "language_info": {
   "codemirror_mode": {
    "name": "ipython",
    "version": 3
   },
   "file_extension": ".py",
   "mimetype": "text/x-python",
   "name": "python",
   "nbconvert_exporter": "python",
   "pygments_lexer": "ipython3",
   "version": "3.11.0"
  }
 },
 "nbformat": 4,
 "nbformat_minor": 2
}
